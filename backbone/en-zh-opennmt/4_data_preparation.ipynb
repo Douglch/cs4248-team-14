{
 "cells": [
  {
   "cell_type": "code",
   "execution_count": 5,
   "metadata": {},
   "outputs": [],
   "source": [
    "import csv\n",
    "import glob\n",
    "\n",
    "def process_ftie_files():\n",
    "    en_output = \"FTIE.en\"\n",
    "    zh_output = \"FTIE.zh\"\n",
    "     \n",
    "    with open(en_output, 'w', encoding='utf-8') as en_file:\n",
    "        en_file.write(\"en\\n\")\n",
    "    with open(zh_output, 'w', encoding='utf-8') as zh_file:\n",
    "        zh_file.write(\"zh\\n\")\n",
    "    csv_files = glob.glob(\"FTIE/*.csv\")\n",
    "    \n",
    "    with open(en_output, 'a', encoding='utf-8') as en_file, \\\n",
    "         open(zh_output, 'a', encoding='utf-8') as zh_file:\n",
    "        \n",
    "        for csv_path in sorted(csv_files):\n",
    "            with open(csv_path, 'r', encoding='utf-8') as f:\n",
    "                csv_reader = csv.reader(f, delimiter=';')\n",
    "                for row in csv_reader:\n",
    "                    if len(row) >= 7:\n",
    "                        en_text = row[5].strip()\n",
    "                        zh_text = row[6].strip()\n",
    "                        \n",
    "                        en_sentences = [s.strip() for s in en_text.split('@')]\n",
    "                        zh_sentences = [s.strip() for s in zh_text.split('@')]\n",
    "                        \n",
    "                        for en_sent, zh_sent in zip(en_sentences, zh_sentences):\n",
    "                            if en_sent and zh_sent:\n",
    "                                en_file.write(en_sent + '\\n')\n",
    "                                zh_file.write(zh_sent + '\\n')\n",
    "\n",
    "if __name__ == \"__main__\":\n",
    "    process_ftie_files()"
   ]
  }
 ],
 "metadata": {
  "kernelspec": {
   "display_name": "base",
   "language": "python",
   "name": "python3"
  },
  "language_info": {
   "codemirror_mode": {
    "name": "ipython",
    "version": 3
   },
   "file_extension": ".py",
   "mimetype": "text/x-python",
   "name": "python",
   "nbconvert_exporter": "python",
   "pygments_lexer": "ipython3",
   "version": "3.9.19"
  }
 },
 "nbformat": 4,
 "nbformat_minor": 2
}
